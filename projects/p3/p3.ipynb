{
 "cells": [
  {
   "cell_type": "code",
   "execution_count": 27,
   "metadata": {},
   "outputs": [],
   "source": [
    "import numpy as np\n",
    "import pandas as pd\n",
    "import matplotlib.pyplot as plt\n",
    "from scipy.constants import g"
   ]
  },
  {
   "cell_type": "code",
   "execution_count": 28,
   "metadata": {},
   "outputs": [
    {
     "data": {
      "text/html": [
       "<div>\n",
       "<style scoped>\n",
       "    .dataframe tbody tr th:only-of-type {\n",
       "        vertical-align: middle;\n",
       "    }\n",
       "\n",
       "    .dataframe tbody tr th {\n",
       "        vertical-align: top;\n",
       "    }\n",
       "\n",
       "    .dataframe thead th {\n",
       "        text-align: right;\n",
       "    }\n",
       "</style>\n",
       "<table border=\"1\" class=\"dataframe\">\n",
       "  <thead>\n",
       "    <tr style=\"text-align: right;\">\n",
       "      <th></th>\n",
       "      <th>diameter [cm]</th>\n",
       "      <th>velocity [cm/sec]</th>\n",
       "      <th>Mass [micrograms]</th>\n",
       "    </tr>\n",
       "  </thead>\n",
       "  <tbody>\n",
       "    <tr>\n",
       "      <th>0</th>\n",
       "      <td>0.002</td>\n",
       "      <td>1.197</td>\n",
       "      <td>0.00418</td>\n",
       "    </tr>\n",
       "    <tr>\n",
       "      <th>1</th>\n",
       "      <td>0.004</td>\n",
       "      <td>4.730</td>\n",
       "      <td>0.03340</td>\n",
       "    </tr>\n",
       "    <tr>\n",
       "      <th>2</th>\n",
       "      <td>0.006</td>\n",
       "      <td>10.300</td>\n",
       "      <td>0.11300</td>\n",
       "    </tr>\n",
       "    <tr>\n",
       "      <th>3</th>\n",
       "      <td>0.008</td>\n",
       "      <td>17.400</td>\n",
       "      <td>0.26700</td>\n",
       "    </tr>\n",
       "    <tr>\n",
       "      <th>4</th>\n",
       "      <td>0.010</td>\n",
       "      <td>25.400</td>\n",
       "      <td>0.52400</td>\n",
       "    </tr>\n",
       "  </tbody>\n",
       "</table>\n",
       "</div>"
      ],
      "text/plain": [
       "   diameter [cm]  velocity [cm/sec]  Mass [micrograms]\n",
       "0          0.002              1.197            0.00418\n",
       "1          0.004              4.730            0.03340\n",
       "2          0.006             10.300            0.11300\n",
       "3          0.008             17.400            0.26700\n",
       "4          0.010             25.400            0.52400"
      ]
     },
     "execution_count": 28,
     "metadata": {},
     "output_type": "execute_result"
    }
   ],
   "source": [
    "df = pd.read_excel(\"data/gunn-kinzer-raindrop-velocity-small.xlsx\")\n",
    "df.head()"
   ]
  },
  {
   "cell_type": "markdown",
   "metadata": {},
   "source": [
    "The density of air is $\\rho = 1.2041 kg/m^3$ at a standard atmospheric pressure of $101.325$ $kPa$ and at 20°C. This value can vary based on temperature, pressure, and humidity levels. "
   ]
  },
  {
   "cell_type": "markdown",
   "metadata": {},
   "source": [
    "At 20°C with the same atmospheric pressure of 101.325 kPa, the viscosity of air is about $1.81 \\times 10^{-5} Pa \\cdot s$. This value also changes based on the temperature and pressure. "
   ]
  },
  {
   "cell_type": "markdown",
   "metadata": {},
   "source": [
    "The equation for the Reynolds number is as follows:\n",
    "$$\n",
    "Re = \\frac{\\rho_{air} v l}{\\mu_{air}}\n",
    "$$"
   ]
  },
  {
   "cell_type": "markdown",
   "metadata": {},
   "source": [
    "Diameter here will be used as the characteristic length."
   ]
  },
  {
   "cell_type": "code",
   "execution_count": 29,
   "metadata": {},
   "outputs": [
    {
     "name": "stdout",
     "output_type": "stream",
     "text": [
      "Smallest velocity: 1.197 cm/sec\n",
      "Smallest length: 0.002 cm\n",
      "Smallest Reynolds Number : 0.01592605193370166\n",
      "Largest velocity: 806.0 cm/sec\n",
      "Largest length: 0.3 cm\n",
      "Largest Reynolds Number: 1608.5711602209944\n"
     ]
    }
   ],
   "source": [
    "# Constants\n",
    "RHO_AIR = 1.2041  # density of air in kg/m³\n",
    "MU_AIR = 1.81e-5  # dynamic viscosity of air in Pa·s (or kg/(m·s))\n",
    "\n",
    "# Convert diameter and velocity from cm and cm/s to m and m/s\n",
    "df['diameter [m]'] = df['diameter [cm]'] / 100\n",
    "df['velocity [m/sec]'] = df['velocity [cm/sec]'] / 100\n",
    "\n",
    "# Calculate Reynolds number for each raindrop\n",
    "df['Reynolds'] = (RHO_AIR * df['velocity [m/sec]'] * df['diameter [m]']) / MU_AIR\n",
    "\n",
    "# Find the Reynolds number for the smallest and largest raindrops\n",
    "velocity_smallest = df[\"velocity [cm/sec]\"].min()\n",
    "velocity_largest = df[\"velocity [cm/sec]\"].max()\n",
    "diameter_smallest = df[\"diameter [cm]\"].min()\n",
    "diameter_largest = df[\"diameter [cm]\"].max()\n",
    "reynolds_smallest = df['Reynolds'].min()\n",
    "reynolds_largest = df['Reynolds'].max()\n",
    "\n",
    "print(f\"Smallest velocity: {velocity_smallest} cm/sec\")\n",
    "print(f\"Smallest length: {diameter_smallest} cm\")\n",
    "print(f\"Smallest Reynolds Number : {reynolds_smallest}\")\n",
    "print(f\"Largest velocity: {velocity_largest} cm/sec\")\n",
    "print(f\"Largest length: {diameter_largest} cm\")\n",
    "print(f\"Largest Reynolds Number: {reynolds_largest}\")"
   ]
  },
  {
   "cell_type": "markdown",
   "metadata": {},
   "source": [
    "![Real Raindrops](images/real_raindrops.png)\n",
    "\n",
    "Source: https://sciencenotes.org/the-real-raindrop-shape-is-not-a-teardrop/"
   ]
  },
  {
   "cell_type": "markdown",
   "metadata": {},
   "source": [
    "$$\n",
    "F_g = \\frac{4}{3} \\pi r^3 \\rho_{water} g \\\\\n",
    "F_D = k_1 \\mu v d\n",
    "$$\n"
   ]
  },
  {
   "cell_type": "markdown",
   "metadata": {},
   "source": [
    "Given the following quantities above, because raindrops reached terminal velocity, acceleration equals zero due to the equillibrium state of the droplets, so $F_g = F_D$.\n",
    "\n",
    "$$\n",
    "F_g = F_d \\\\\n",
    "\\implies v = \\frac{\\pi \\rho g}{6 k_1 \\mu} \\cdot d^2\n",
    "$$"
   ]
  },
  {
   "cell_type": "code",
   "execution_count": 34,
   "metadata": {},
   "outputs": [
    {
     "name": "stdout",
     "output_type": "stream",
     "text": [
      "k1: 9.993945872046686\n"
     ]
    }
   ],
   "source": [
    "from sklearn.linear_model import LinearRegression\n",
    "\n",
    "# Constants\n",
    "RHO_WATER = 1000  # density of water in kg/m³ (assuming raindrops are water)\n",
    "\n",
    "# Select the first three data points for small Reynolds numbers\n",
    "small_Re_data = df.head(3)\n",
    "\n",
    "# Prepare the data for linear regression (X: D^2, y: v)\n",
    "X = (small_Re_data['diameter [m]']) ** 2\n",
    "y = small_Re_data['velocity [m/sec]']\n",
    "\n",
    "# Reshape X for sklearn\n",
    "X_reshaped = X.values.reshape(-1, 1)\n",
    "\n",
    "# Perform linear regression\n",
    "model = LinearRegression()\n",
    "model.fit(X_reshaped, y)\n",
    "\n",
    "# Extract the coefficient (slope)\n",
    "slope = model.coef_[0]\n",
    "\n",
    "# Calculate k1 from the slope\n",
    "k1 = (np.pi * RHO_WATER * g) / (6 * slope * MU_AIR)\n",
    "\n",
    "print(f\"k1: {k1}\")"
   ]
  },
  {
   "cell_type": "code",
   "execution_count": 32,
   "metadata": {},
   "outputs": [
    {
     "name": "stdout",
     "output_type": "stream",
     "text": [
      "9.80665\n"
     ]
    }
   ],
   "source": [
    "print(g)"
   ]
  },
  {
   "cell_type": "code",
   "execution_count": 45,
   "metadata": {},
   "outputs": [
    {
     "data": {
      "image/png": "[encoded data removed]",
      "text/plain": [
       "<Figure size 1000x600 with 1 Axes>"
      ]
     },
     "metadata": {},
     "output_type": "display_data"
    }
   ],
   "source": [
    "# Generate a range of D^2 values for plotting the fitted line\n",
    "D_squared_range = np.linspace(X.min(), X.max(), 100)\n",
    "v_predicted = model.predict(D_squared_range.reshape(-1, 1))\n",
    "\n",
    "theory_slope = (RHO_WATER * g) / (6 * 3 * MU_AIR)\n",
    "\n",
    "# Plotting\n",
    "plt.figure(figsize=(10, 6))\n",
    "plt.scatter(X, y, color='blue', label='Data Points')\n",
    "plt.plot(D_squared_range, v_predicted, color='red', label=f'Fitted Line (k1 = {k1:.2f})')\n",
    "plt.plot(D_squared_range, theory_slope * D_squared_range, color='gray', linestyle=\"--\", label=r'Theoretical Line (k1 = 3$\\pi$)')\n",
    "plt.xlabel('Diameter Squared (m²)')\n",
    "plt.ylabel('Velocity (m/s)')\n",
    "plt.legend()\n",
    "plt.grid(True)\n",
    "plt.savefig(\"plots/terminal_velocity_diameter_squared_small_droplets.png\")\n",
    "plt.show()"
   ]
  },
  {
   "cell_type": "markdown",
   "metadata": {},
   "source": [
    "https://galileo.phys.virginia.edu/classes/152.mf1i.spring02/Stokes_Law.htm\n",
    "\n",
    "$$\n",
    "F_D = F_D \\\\\n",
    "\\implies 6 \\pi \\mu_{air} r v = k_1 \\mu_{air} d v \\\\\n",
    "\\implies 6 \\pi \\mu_{air} (\\frac{d}{2}) v = k_1 \\mu_{air} d v \\\\\n",
    "\\implies 3 \\pi \\mu d v = k_1 \\mu d v \\\\\n",
    "k_1 = 3 \\pi \\approx 9.425\n",
    "$$"
   ]
  },
  {
   "cell_type": "markdown",
   "metadata": {},
   "source": [
    "This approax through Stokes Law yields a similar $k_1$. "
   ]
  },
  {
   "cell_type": "code",
   "execution_count": 42,
   "metadata": {},
   "outputs": [
    {
     "name": "stdout",
     "output_type": "stream",
     "text": [
      "Small Reynolds Number relative error: -6.039059101938174%\n"
     ]
    }
   ],
   "source": [
    "error_small_reynolds = (3 * np.pi - k1) * 100 / (3 * np.pi)\n",
    "print(f\"Small Reynolds Number relative error: {error_small_reynolds}%\")"
   ]
  },
  {
   "cell_type": "code",
   "execution_count": 36,
   "metadata": {},
   "outputs": [
    {
     "data": {
      "text/html": [
       "<div>\n",
       "<style scoped>\n",
       "    .dataframe tbody tr th:only-of-type {\n",
       "        vertical-align: middle;\n",
       "    }\n",
       "\n",
       "    .dataframe tbody tr th {\n",
       "        vertical-align: top;\n",
       "    }\n",
       "\n",
       "    .dataframe thead th {\n",
       "        text-align: right;\n",
       "    }\n",
       "</style>\n",
       "<table border=\"1\" class=\"dataframe\">\n",
       "  <thead>\n",
       "    <tr style=\"text-align: right;\">\n",
       "      <th></th>\n",
       "      <th>diameter [cm]</th>\n",
       "      <th>velocity [cm/sec]</th>\n",
       "      <th>Mass [micrograms]</th>\n",
       "      <th>diameter [m]</th>\n",
       "      <th>velocity [m/sec]</th>\n",
       "      <th>Reynolds</th>\n",
       "    </tr>\n",
       "  </thead>\n",
       "  <tbody>\n",
       "    <tr>\n",
       "      <th>0</th>\n",
       "      <td>0.002</td>\n",
       "      <td>1.197</td>\n",
       "      <td>0.00418</td>\n",
       "      <td>0.00002</td>\n",
       "      <td>0.01197</td>\n",
       "      <td>0.015926</td>\n",
       "    </tr>\n",
       "    <tr>\n",
       "      <th>1</th>\n",
       "      <td>0.004</td>\n",
       "      <td>4.730</td>\n",
       "      <td>0.03340</td>\n",
       "      <td>0.00004</td>\n",
       "      <td>0.04730</td>\n",
       "      <td>0.125865</td>\n",
       "    </tr>\n",
       "    <tr>\n",
       "      <th>2</th>\n",
       "      <td>0.006</td>\n",
       "      <td>10.300</td>\n",
       "      <td>0.11300</td>\n",
       "      <td>0.00006</td>\n",
       "      <td>0.10300</td>\n",
       "      <td>0.411124</td>\n",
       "    </tr>\n",
       "    <tr>\n",
       "      <th>3</th>\n",
       "      <td>0.008</td>\n",
       "      <td>17.400</td>\n",
       "      <td>0.26700</td>\n",
       "      <td>0.00008</td>\n",
       "      <td>0.17400</td>\n",
       "      <td>0.926026</td>\n",
       "    </tr>\n",
       "    <tr>\n",
       "      <th>4</th>\n",
       "      <td>0.010</td>\n",
       "      <td>25.400</td>\n",
       "      <td>0.52400</td>\n",
       "      <td>0.00010</td>\n",
       "      <td>0.25400</td>\n",
       "      <td>1.689731</td>\n",
       "    </tr>\n",
       "  </tbody>\n",
       "</table>\n",
       "</div>"
      ],
      "text/plain": [
       "   diameter [cm]  velocity [cm/sec]  Mass [micrograms]  diameter [m]  \\\n",
       "0          0.002              1.197            0.00418       0.00002   \n",
       "1          0.004              4.730            0.03340       0.00004   \n",
       "2          0.006             10.300            0.11300       0.00006   \n",
       "3          0.008             17.400            0.26700       0.00008   \n",
       "4          0.010             25.400            0.52400       0.00010   \n",
       "\n",
       "   velocity [m/sec]  Reynolds  \n",
       "0           0.01197  0.015926  \n",
       "1           0.04730  0.125865  \n",
       "2           0.10300  0.411124  \n",
       "3           0.17400  0.926026  \n",
       "4           0.25400  1.689731  "
      ]
     },
     "execution_count": 36,
     "metadata": {},
     "output_type": "execute_result"
    }
   ],
   "source": [
    "df.head()"
   ]
  },
  {
   "cell_type": "code",
   "execution_count": null,
   "metadata": {},
   "outputs": [],
   "source": []
  }
 ],
 "metadata": {
  "kernelspec": {
   "display_name": "new_tensor",
   "language": "python",
   "name": "python3"
  },
  "language_info": {
   "codemirror_mode": {
    "name": "ipython",
    "version": 3
   },
   "file_extension": ".py",
   "mimetype": "text/x-python",
   "name": "python",
   "nbconvert_exporter": "python",
   "pygments_lexer": "ipython3",
   "version": "3.9.18"
  }
 },
 "nbformat": 4,
 "nbformat_minor": 2
}
