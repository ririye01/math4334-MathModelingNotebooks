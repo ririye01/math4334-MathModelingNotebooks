{
 "cells": [
  {
   "cell_type": "code",
   "execution_count": 4,
   "metadata": {},
   "outputs": [],
   "source": [
    "import numpy as np\n",
    "import pandas as pd\n",
    "import matplotlib.pyplot as plt"
   ]
  },
  {
   "cell_type": "code",
   "execution_count": 5,
   "metadata": {},
   "outputs": [
    {
     "data": {
      "text/html": [
       "<div>\n",
       "<style scoped>\n",
       "    .dataframe tbody tr th:only-of-type {\n",
       "        vertical-align: middle;\n",
       "    }\n",
       "\n",
       "    .dataframe tbody tr th {\n",
       "        vertical-align: top;\n",
       "    }\n",
       "\n",
       "    .dataframe thead th {\n",
       "        text-align: right;\n",
       "    }\n",
       "</style>\n",
       "<table border=\"1\" class=\"dataframe\">\n",
       "  <thead>\n",
       "    <tr style=\"text-align: right;\">\n",
       "      <th></th>\n",
       "      <th>Unnamed: 0</th>\n",
       "      <th>Mass [g]</th>\n",
       "      <th>Velocity [m/s]</th>\n",
       "    </tr>\n",
       "  </thead>\n",
       "  <tbody>\n",
       "    <tr>\n",
       "      <th>0</th>\n",
       "      <td>0</td>\n",
       "      <td>2.637943e-07</td>\n",
       "      <td>8.207096</td>\n",
       "    </tr>\n",
       "    <tr>\n",
       "      <th>1</th>\n",
       "      <td>1</td>\n",
       "      <td>2.110354e-06</td>\n",
       "      <td>11.606586</td>\n",
       "    </tr>\n",
       "    <tr>\n",
       "      <th>2</th>\n",
       "      <td>2</td>\n",
       "      <td>7.122446e-06</td>\n",
       "      <td>14.215107</td>\n",
       "    </tr>\n",
       "    <tr>\n",
       "      <th>3</th>\n",
       "      <td>3</td>\n",
       "      <td>1.688284e-05</td>\n",
       "      <td>16.414192</td>\n",
       "    </tr>\n",
       "    <tr>\n",
       "      <th>4</th>\n",
       "      <td>4</td>\n",
       "      <td>3.297429e-05</td>\n",
       "      <td>18.351624</td>\n",
       "    </tr>\n",
       "  </tbody>\n",
       "</table>\n",
       "</div>"
      ],
      "text/plain": [
       "   Unnamed: 0      Mass [g]  Velocity [m/s]\n",
       "0           0  2.637943e-07        8.207096\n",
       "1           1  2.110354e-06       11.606586\n",
       "2           2  7.122446e-06       14.215107\n",
       "3           3  1.688284e-05       16.414192\n",
       "4           4  3.297429e-05       18.351624"
      ]
     },
     "execution_count": 5,
     "metadata": {},
     "output_type": "execute_result"
    }
   ],
   "source": [
    "df = pd.read_excel(\"data/iron-spheres-terminal-velocity.xlsx\")\n",
    "df.head()"
   ]
  },
  {
   "cell_type": "code",
   "execution_count": 7,
   "metadata": {},
   "outputs": [
    {
     "data": {
      "text/plain": [
       "<matplotlib.collections.PathCollection at 0x1699277c0>"
      ]
     },
     "execution_count": 7,
     "metadata": {},
     "output_type": "execute_result"
    },
    {
     "data": {
      "image/png": "[encoded data removed]",
      "text/plain": [
       "<Figure size 640x480 with 1 Axes>"
      ]
     },
     "metadata": {},
     "output_type": "display_data"
    }
   ],
   "source": [
    "plt.scatter(df[\"Mass [g]\"], df[\"Velocity [m/s]\"])"
   ]
  },
  {
   "cell_type": "code",
   "execution_count": 8,
   "metadata": {},
   "outputs": [],
   "source": [
    "# Physical constants\n",
    "g = 9.81  # acceleration due to gravity in m/s^2\n",
    "rho_air = 1.225  # density of air in kg/m^3 at sea level\n",
    "rho_iron = 7870  # density of pure iron in kg/m^3\n",
    "\n",
    "# The drag coefficient is unknown and typically ranges from 0.47 for a smooth sphere\n",
    "# to 1.05 for a rough sphere, we can try to estimate it from the data if needed.\n",
    "\n",
    "# Convert mass from grams to kilograms for calculations\n",
    "df['Mass [kg]'] = df['Mass [g]'] * 1e-3\n",
    "\n",
    "# Calculate the radius of each sphere from its mass and the density of iron\n",
    "df['Radius [m]'] = ( (3 * df['Mass [kg]']) / (4 * np.pi * rho_iron) ) ** (1/3)\n",
    "\n",
    "# Calculate the cross-sectional area of each sphere\n",
    "df['Area [m^2]'] = np.pi * df['Radius [m]'] ** 2"
   ]
  },
  {
   "cell_type": "code",
   "execution_count": 9,
   "metadata": {},
   "outputs": [
    {
     "data": {
      "text/html": [
       "<div>\n",
       "<style scoped>\n",
       "    .dataframe tbody tr th:only-of-type {\n",
       "        vertical-align: middle;\n",
       "    }\n",
       "\n",
       "    .dataframe tbody tr th {\n",
       "        vertical-align: top;\n",
       "    }\n",
       "\n",
       "    .dataframe thead th {\n",
       "        text-align: right;\n",
       "    }\n",
       "</style>\n",
       "<table border=\"1\" class=\"dataframe\">\n",
       "  <thead>\n",
       "    <tr style=\"text-align: right;\">\n",
       "      <th></th>\n",
       "      <th>Unnamed: 0</th>\n",
       "      <th>Mass [g]</th>\n",
       "      <th>Velocity [m/s]</th>\n",
       "      <th>Mass [kg]</th>\n",
       "      <th>Radius [m]</th>\n",
       "      <th>Area [m^2]</th>\n",
       "    </tr>\n",
       "  </thead>\n",
       "  <tbody>\n",
       "    <tr>\n",
       "      <th>0</th>\n",
       "      <td>0</td>\n",
       "      <td>2.637943e-07</td>\n",
       "      <td>8.207096</td>\n",
       "      <td>2.637943e-10</td>\n",
       "      <td>0.00002</td>\n",
       "      <td>1.256853e-09</td>\n",
       "    </tr>\n",
       "    <tr>\n",
       "      <th>1</th>\n",
       "      <td>1</td>\n",
       "      <td>2.110354e-06</td>\n",
       "      <td>11.606586</td>\n",
       "      <td>2.110354e-09</td>\n",
       "      <td>0.00004</td>\n",
       "      <td>5.027413e-09</td>\n",
       "    </tr>\n",
       "    <tr>\n",
       "      <th>2</th>\n",
       "      <td>2</td>\n",
       "      <td>7.122446e-06</td>\n",
       "      <td>14.215107</td>\n",
       "      <td>7.122446e-09</td>\n",
       "      <td>0.00006</td>\n",
       "      <td>1.131168e-08</td>\n",
       "    </tr>\n",
       "    <tr>\n",
       "      <th>3</th>\n",
       "      <td>3</td>\n",
       "      <td>1.688284e-05</td>\n",
       "      <td>16.414192</td>\n",
       "      <td>1.688284e-08</td>\n",
       "      <td>0.00008</td>\n",
       "      <td>2.010965e-08</td>\n",
       "    </tr>\n",
       "    <tr>\n",
       "      <th>4</th>\n",
       "      <td>4</td>\n",
       "      <td>3.297429e-05</td>\n",
       "      <td>18.351624</td>\n",
       "      <td>3.297429e-08</td>\n",
       "      <td>0.00010</td>\n",
       "      <td>3.142133e-08</td>\n",
       "    </tr>\n",
       "  </tbody>\n",
       "</table>\n",
       "</div>"
      ],
      "text/plain": [
       "   Unnamed: 0      Mass [g]  Velocity [m/s]     Mass [kg]  Radius [m]  \\\n",
       "0           0  2.637943e-07        8.207096  2.637943e-10     0.00002   \n",
       "1           1  2.110354e-06       11.606586  2.110354e-09     0.00004   \n",
       "2           2  7.122446e-06       14.215107  7.122446e-09     0.00006   \n",
       "3           3  1.688284e-05       16.414192  1.688284e-08     0.00008   \n",
       "4           4  3.297429e-05       18.351624  3.297429e-08     0.00010   \n",
       "\n",
       "     Area [m^2]  \n",
       "0  1.256853e-09  \n",
       "1  5.027413e-09  \n",
       "2  1.131168e-08  \n",
       "3  2.010965e-08  \n",
       "4  3.142133e-08  "
      ]
     },
     "execution_count": 9,
     "metadata": {},
     "output_type": "execute_result"
    }
   ],
   "source": [
    "df.head()"
   ]
  },
  {
   "cell_type": "code",
   "execution_count": 13,
   "metadata": {},
   "outputs": [
    {
     "data": {
      "text/plain": [
       "<matplotlib.legend.Legend at 0x169b76df0>"
      ]
     },
     "execution_count": 13,
     "metadata": {},
     "output_type": "execute_result"
    },
    {
     "data": {
      "image/png": "[encoded data removed]",
      "text/plain": [
       "<Figure size 1000x600 with 1 Axes>"
      ]
     },
     "metadata": {},
     "output_type": "display_data"
    }
   ],
   "source": [
    "# Calculate Cd for each data point\n",
    "df['Cd'] = (2 * df['Mass [kg]'] * g) / (rho_air * df['Area [m^2]'] * df['Velocity [m/s]']**2)\n",
    "\n",
    "# Estimate the drag coefficient by taking the mean of the calculated Cd values\n",
    "Cd_estimated = df['Cd'].mean()\n",
    "\n",
    "# Now let's re-calculate the predicted terminal velocity using the estimated Cd\n",
    "def calculate_terminal_velocity_with_estimated_cd(mass, area, Cd):\n",
    "    return np.sqrt((2 * mass * g) / (rho_air * area * Cd))\n",
    "\n",
    "df['Predicted Velocity with estimated Cd [m/s]'] = calculate_terminal_velocity_with_estimated_cd(\n",
    "    df['Mass [kg]'], df['Area [m^2]'], Cd_estimated)\n",
    "\n",
    "# Plotting the data with the updated Cd\n",
    "plt.figure(figsize=(10, 6))\n",
    "\n",
    "# Plot the experimental data\n",
    "plt.scatter(df['Mass [kg]'], df['Velocity [m/s]'], color='blue', label='Experimental Data')\n",
    "\n",
    "# Plot the predicted data with estimated Cd\n",
    "plt.plot(df['Mass [kg]'], df['Predicted Velocity with estimated Cd [m/s]'], color='orange',\n",
    "         label='Model Prediction with estimated Cd')\n",
    "\n",
    "# Add titles and labels\n",
    "plt.title('Terminal Velocity of Iron Spheres with Estimated Cd')\n",
    "plt.xlabel('Mass (kg)')\n",
    "plt.ylabel('Terminal Velocity (m/s)')\n",
    "plt.legend()"
   ]
  },
  {
   "cell_type": "code",
   "execution_count": 14,
   "metadata": {},
   "outputs": [
    {
     "data": {
      "text/html": [
       "<div>\n",
       "<style scoped>\n",
       "    .dataframe tbody tr th:only-of-type {\n",
       "        vertical-align: middle;\n",
       "    }\n",
       "\n",
       "    .dataframe tbody tr th {\n",
       "        vertical-align: top;\n",
       "    }\n",
       "\n",
       "    .dataframe thead th {\n",
       "        text-align: right;\n",
       "    }\n",
       "</style>\n",
       "<table border=\"1\" class=\"dataframe\">\n",
       "  <thead>\n",
       "    <tr style=\"text-align: right;\">\n",
       "      <th></th>\n",
       "      <th>Unnamed: 0</th>\n",
       "      <th>Mass [g]</th>\n",
       "      <th>Velocity [m/s]</th>\n",
       "      <th>Mass [kg]</th>\n",
       "      <th>Radius [m]</th>\n",
       "      <th>Area [m^2]</th>\n",
       "      <th>Cd</th>\n",
       "      <th>Predicted Velocity with estimated Cd [m/s]</th>\n",
       "    </tr>\n",
       "  </thead>\n",
       "  <tbody>\n",
       "    <tr>\n",
       "      <th>0</th>\n",
       "      <td>0</td>\n",
       "      <td>2.637943e-07</td>\n",
       "      <td>8.207096</td>\n",
       "      <td>2.637943e-10</td>\n",
       "      <td>0.00002</td>\n",
       "      <td>1.256853e-09</td>\n",
       "      <td>0.049907</td>\n",
       "      <td>8.207096</td>\n",
       "    </tr>\n",
       "    <tr>\n",
       "      <th>1</th>\n",
       "      <td>1</td>\n",
       "      <td>2.110354e-06</td>\n",
       "      <td>11.606586</td>\n",
       "      <td>2.110354e-09</td>\n",
       "      <td>0.00004</td>\n",
       "      <td>5.027413e-09</td>\n",
       "      <td>0.049907</td>\n",
       "      <td>11.606586</td>\n",
       "    </tr>\n",
       "    <tr>\n",
       "      <th>2</th>\n",
       "      <td>2</td>\n",
       "      <td>7.122446e-06</td>\n",
       "      <td>14.215107</td>\n",
       "      <td>7.122446e-09</td>\n",
       "      <td>0.00006</td>\n",
       "      <td>1.131168e-08</td>\n",
       "      <td>0.049907</td>\n",
       "      <td>14.215107</td>\n",
       "    </tr>\n",
       "    <tr>\n",
       "      <th>3</th>\n",
       "      <td>3</td>\n",
       "      <td>1.688284e-05</td>\n",
       "      <td>16.414192</td>\n",
       "      <td>1.688284e-08</td>\n",
       "      <td>0.00008</td>\n",
       "      <td>2.010965e-08</td>\n",
       "      <td>0.049907</td>\n",
       "      <td>16.414192</td>\n",
       "    </tr>\n",
       "    <tr>\n",
       "      <th>4</th>\n",
       "      <td>4</td>\n",
       "      <td>3.297429e-05</td>\n",
       "      <td>18.351624</td>\n",
       "      <td>3.297429e-08</td>\n",
       "      <td>0.00010</td>\n",
       "      <td>3.142133e-08</td>\n",
       "      <td>0.049907</td>\n",
       "      <td>18.351624</td>\n",
       "    </tr>\n",
       "  </tbody>\n",
       "</table>\n",
       "</div>"
      ],
      "text/plain": [
       "   Unnamed: 0      Mass [g]  Velocity [m/s]     Mass [kg]  Radius [m]  \\\n",
       "0           0  2.637943e-07        8.207096  2.637943e-10     0.00002   \n",
       "1           1  2.110354e-06       11.606586  2.110354e-09     0.00004   \n",
       "2           2  7.122446e-06       14.215107  7.122446e-09     0.00006   \n",
       "3           3  1.688284e-05       16.414192  1.688284e-08     0.00008   \n",
       "4           4  3.297429e-05       18.351624  3.297429e-08     0.00010   \n",
       "\n",
       "     Area [m^2]        Cd  Predicted Velocity with estimated Cd [m/s]  \n",
       "0  1.256853e-09  0.049907                                    8.207096  \n",
       "1  5.027413e-09  0.049907                                   11.606586  \n",
       "2  1.131168e-08  0.049907                                   14.215107  \n",
       "3  2.010965e-08  0.049907                                   16.414192  \n",
       "4  3.142133e-08  0.049907                                   18.351624  "
      ]
     },
     "execution_count": 14,
     "metadata": {},
     "output_type": "execute_result"
    }
   ],
   "source": [
    "df.head()"
   ]
  },
  {
   "cell_type": "code",
   "execution_count": 15,
   "metadata": {},
   "outputs": [
    {
     "data": {
      "text/plain": [
       "{'Mercury': 87.93539486428945,\n",
       " 'Venus': 224.63983095889623,\n",
       " 'Earth': 365.21050633813775,\n",
       " 'Mars': 686.6925888107595,\n",
       " 'Jupiter': 4336.281538534151,\n",
       " 'Saturn': 10832.842237573854,\n",
       " 'Uranus': 30728.115638267784,\n",
       " 'Neptune': 60152.6699804304,\n",
       " 'Pluto': 90600.40845354972}"
      ]
     },
     "execution_count": 15,
     "metadata": {},
     "output_type": "execute_result"
    }
   ],
   "source": [
    "# Given data from the Excel sheet\n",
    "planets_data = {\n",
    "    'Mercury': {'Distance': 57900000, 'Period': 88},\n",
    "    'Venus': {'Distance': 108200000, 'Period': 224.7},\n",
    "    'Earth': {'Distance': 149600000, 'Period': 365.2},\n",
    "    'Mars': {'Distance': 227900000, 'Period': 687},\n",
    "    'Jupiter': {'Distance': 778600000, 'Period': 4331},\n",
    "    'Saturn': {'Distance': 1433500000, 'Period': 10747},\n",
    "    'Uranus': {'Distance': 2872500000, 'Period': 30589},\n",
    "    'Neptune': {'Distance': 4495100000, 'Period': 59800},\n",
    "    'Pluto': {'Distance': 5906400000, 'Period': 90560}\n",
    "}\n",
    "\n",
    "# Constants\n",
    "G = 6.67430e-11  # Gravitational constant in N(m^2)/(kg^2)\n",
    "M_sun = 1.989e30  # Mass of the Sun in kg\n",
    "km_to_m = 1e3  # Conversion factor from km to m\n",
    "days_to_seconds = 24 * 3600  # Conversion factor from days to seconds\n",
    "\n",
    "# Calculate theoretical orbital periods using Kepler's third law\n",
    "theoretical_periods = {}\n",
    "for planet, data in planets_data.items():\n",
    "    R = data['Distance'] * km_to_m  # Convert distance from km to m\n",
    "    T_squared = (4 * np.pi**2 * R**3) / (G * M_sun)\n",
    "    T = np.sqrt(T_squared)  # Orbital period in seconds\n",
    "    T_days = T / days_to_seconds  # Convert period from seconds to days\n",
    "    theoretical_periods[planet] = T_days\n",
    "\n",
    "theoretical_periods"
   ]
  },
  {
   "cell_type": "code",
   "execution_count": null,
   "metadata": {},
   "outputs": [],
   "source": []
  }
 ],
 "metadata": {
  "kernelspec": {
   "display_name": "new_tensor",
   "language": "python",
   "name": "python3"
  },
  "language_info": {
   "codemirror_mode": {
    "name": "ipython",
    "version": 3
   },
   "file_extension": ".py",
   "mimetype": "text/x-python",
   "name": "python",
   "nbconvert_exporter": "python",
   "pygments_lexer": "ipython3",
   "version": "3.9.18"
  }
 },
 "nbformat": 4,
 "nbformat_minor": 2
}
